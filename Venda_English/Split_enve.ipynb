{
 "cells": [
  {
   "cell_type": "code",
   "execution_count": 25,
   "metadata": {},
   "outputs": [],
   "source": [
    "import numpy as np\n",
    "import pandas as pd\n",
    "from sklearn.model_selection import train_test_split"
   ]
  },
  {
   "cell_type": "code",
   "execution_count": 22,
   "metadata": {},
   "outputs": [],
   "source": [
    "en = pd.read_csv('enve_parallel.en.txt', header=None)\n",
    "ve = pd.read_csv('enve_parallel.ve.txt', header=None)\n",
    "\n",
    "en['English'] = en[0]\n",
    "en.drop(columns=[0], axis=0, inplace=True)\n",
    "ve['Venda'] = ve[0]\n",
    "ve.drop(columns=[0], axis=0, inplace=True)"
   ]
  },
  {
   "cell_type": "code",
   "execution_count": 24,
   "metadata": {},
   "outputs": [],
   "source": [
    "df = pd.concat([en,ve], axis=1)"
   ]
  },
  {
   "cell_type": "code",
   "execution_count": 26,
   "metadata": {},
   "outputs": [],
   "source": [
    "train, enve_parallel_dev = train_test_split(df, test_size=0.3)"
   ]
  },
  {
   "cell_type": "code",
   "execution_count": 27,
   "metadata": {},
   "outputs": [],
   "source": [
    "enve_parallel_train , enve_parallel_test = train_test_split(train, test_size=0.3)"
   ]
  },
  {
   "cell_type": "code",
   "execution_count": 31,
   "metadata": {},
   "outputs": [],
   "source": [
    "enve_parallel_train['English'].to_csv('enve_parallel.train.en.txt', header=False, index=None)\n",
    "enve_parallel_train['Venda'].to_csv('enve_parallel.train.ve.txt', header=False, index=None)\n",
    "enve_parallel_test['English'].to_csv('enve_parallel.test.en.txt', header=False, index=None)\n",
    "enve_parallel_test['Venda'].to_csv('enve_parallel.test.ve.txt', header=False, index=None)\n",
    "enve_parallel_dev['English'].to_csv('enve_parallel.dev.en.txt', header=False, index=None)\n",
    "enve_parallel_dev['Venda'].to_csv('enve_parallel.dev.ve.txt', header=False, index=None)"
   ]
  },
  {
   "cell_type": "code",
   "execution_count": null,
   "metadata": {},
   "outputs": [],
   "source": []
  }
 ],
 "metadata": {
  "kernelspec": {
   "display_name": "Python 3",
   "language": "python",
   "name": "python3"
  },
  "language_info": {
   "codemirror_mode": {
    "name": "ipython",
    "version": 3
   },
   "file_extension": ".py",
   "mimetype": "text/x-python",
   "name": "python",
   "nbconvert_exporter": "python",
   "pygments_lexer": "ipython3",
   "version": "3.7.0"
  }
 },
 "nbformat": 4,
 "nbformat_minor": 2
}
